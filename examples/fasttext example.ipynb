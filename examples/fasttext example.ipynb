{
 "cells": [
  {
   "cell_type": "code",
   "execution_count": 1,
   "metadata": {},
   "outputs": [],
   "source": [
    "import sys\n",
    "\n",
    "sys.path.append(\"..\")"
   ]
  },
  {
   "cell_type": "code",
   "execution_count": 2,
   "metadata": {},
   "outputs": [
    {
     "ename": "ModuleNotFoundError",
     "evalue": "No module named 'cuml'",
     "output_type": "error",
     "traceback": [
      "\u001b[0;31m---------------------------------------------------------------------------\u001b[0m",
      "\u001b[0;31mModuleNotFoundError\u001b[0m                       Traceback (most recent call last)",
      "\u001b[1;32m/Users/donsangre/PycharmProjects/quantitizer/examples/fasttext example.ipynb Cell 2'\u001b[0m in \u001b[0;36m<cell line: 7>\u001b[0;34m()\u001b[0m\n\u001b[1;32m      <a href='vscode-notebook-cell:/Users/donsangre/PycharmProjects/quantitizer/examples/fasttext%20example.ipynb#ch0000001?line=3'>4</a>\u001b[0m \u001b[39mfrom\u001b[39;00m \u001b[39mgensim\u001b[39;00m\u001b[39m.\u001b[39;00m\u001b[39mmodels\u001b[39;00m \u001b[39mimport\u001b[39;00m FastText\n\u001b[1;32m      <a href='vscode-notebook-cell:/Users/donsangre/PycharmProjects/quantitizer/examples/fasttext%20example.ipynb#ch0000001?line=4'>5</a>\u001b[0m \u001b[39mfrom\u001b[39;00m \u001b[39mgensim\u001b[39;00m\u001b[39m.\u001b[39;00m\u001b[39mmodels\u001b[39;00m\u001b[39m.\u001b[39;00m\u001b[39mfasttext\u001b[39;00m \u001b[39mimport\u001b[39;00m save_facebook_model\n\u001b[0;32m----> <a href='vscode-notebook-cell:/Users/donsangre/PycharmProjects/quantitizer/examples/fasttext%20example.ipynb#ch0000001?line=6'>7</a>\u001b[0m \u001b[39mfrom\u001b[39;00m \u001b[39mquantitizer\u001b[39;00m\u001b[39m.\u001b[39;00m\u001b[39mutils\u001b[39;00m \u001b[39mimport\u001b[39;00m mb\n\u001b[1;32m      <a href='vscode-notebook-cell:/Users/donsangre/PycharmProjects/quantitizer/examples/fasttext%20example.ipynb#ch0000001?line=7'>8</a>\u001b[0m \u001b[39mfrom\u001b[39;00m \u001b[39mquantitizer\u001b[39;00m\u001b[39m.\u001b[39;00m\u001b[39mintegration\u001b[39;00m\u001b[39m.\u001b[39;00m\u001b[39mgensim\u001b[39;00m\u001b[39m.\u001b[39;00m\u001b[39mfasttext\u001b[39;00m \u001b[39mimport\u001b[39;00m make_new_fasttext_model\n\u001b[1;32m     <a href='vscode-notebook-cell:/Users/donsangre/PycharmProjects/quantitizer/examples/fasttext%20example.ipynb#ch0000001?line=10'>11</a>\u001b[0m ft \u001b[39m=\u001b[39m FastText\u001b[39m.\u001b[39mload_fasttext_format(\u001b[39m\"\u001b[39m\u001b[39m../data/cc.en.300.bin\u001b[39m\u001b[39m\"\u001b[39m)\u001b[39m.\u001b[39mwv\n",
      "File \u001b[0;32m~/PycharmProjects/quantitizer/examples/../quantitizer/__init__.py:3\u001b[0m, in \u001b[0;36m<module>\u001b[0;34m\u001b[0m\n\u001b[1;32m      1\u001b[0m \u001b[39mimport\u001b[39;00m \u001b[39mnumpy\u001b[39;00m \u001b[39mas\u001b[39;00m \u001b[39mnp\u001b[39;00m\n\u001b[1;32m      2\u001b[0m \u001b[39mfrom\u001b[39;00m \u001b[39mscipy\u001b[39;00m\u001b[39m.\u001b[39;00m\u001b[39mcluster\u001b[39;00m\u001b[39m.\u001b[39;00m\u001b[39mvq\u001b[39;00m \u001b[39mimport\u001b[39;00m kmeans2\n\u001b[0;32m----> 3\u001b[0m \u001b[39mfrom\u001b[39;00m \u001b[39mcuml\u001b[39;00m \u001b[39mimport\u001b[39;00m KMeans\n\u001b[1;32m      4\u001b[0m \u001b[39mfrom\u001b[39;00m \u001b[39mcuml\u001b[39;00m\u001b[39m.\u001b[39;00m\u001b[39mcluster\u001b[39;00m \u001b[39mimport\u001b[39;00m KMeans\n\u001b[1;32m      6\u001b[0m \u001b[39mfrom\u001b[39;00m \u001b[39mquantitizer\u001b[39;00m\u001b[39m.\u001b[39;00m\u001b[39m_pq_array\u001b[39;00m \u001b[39mimport\u001b[39;00m PQ\n",
      "\u001b[0;31mModuleNotFoundError\u001b[0m: No module named 'cuml'"
     ]
    }
   ],
   "source": [
    "import copy\n",
    "\n",
    "import numpy as np\n",
    "from gensim.models import FastText\n",
    "from gensim.models.fasttext import save_facebook_model\n",
    "\n",
    "from quantitizer.utils import mb\n",
    "from quantitizer.integration.gensim.fasttext import make_new_fasttext_model\n",
    "\n",
    "\n",
    "ft = FastText.load_fasttext_format(\"../data/cc.en.300.bin\").wv\n",
    "vocab = list(ft.key_to_index.keys())\n",
    "mb(ft)"
   ]
  },
  {
   "cell_type": "code",
   "execution_count": 17,
   "metadata": {},
   "outputs": [],
   "source": [
    "import quantitizer as q\n",
    "import importlib\n",
    "\n",
    "importlib.reload(q)\n",
    "\n",
    "def get_quantitized(ft, sub_size):\n",
    "    ft_quantitized = make_new_fasttext_model(\n",
    "        ft, q.quantitize(ft.vectors, sub_size=sub_size, n_iter=5),\n",
    "        q.quantitize(ft.vectors_ngrams, sub_size=sub_size, n_iter=5))\n",
    "    return ft_quantitized"
   ]
  },
  {
   "cell_type": "code",
   "execution_count": 3,
   "metadata": {},
   "outputs": [
    {
     "data": {
      "text/plain": [
       "642.8218088150024"
      ]
     },
     "execution_count": 3,
     "metadata": {},
     "output_type": "execute_result"
    }
   ],
   "source": [
    "sub_sizes = [2, 50, 100]\n",
    "quantitized_fts = []\n",
    "for sub_size in sub_sizes:\n",
    "    quantitized_fts.append(get_quantitized(ft, sub_size))\n",
    "    print(f\"Sub size = {sub_size} -> memory = {mb(quantitized_fts[-1])}\")\n",
    "    quantitized_fts[-1].save(f\"../out/compressed_{sub_size}\")"
   ]
  },
  {
   "cell_type": "code",
   "execution_count": 18,
   "metadata": {},
   "outputs": [],
   "source": [
    "ft_quantitized = get_quantitized(ft, 2)\n",
    "# ft_quantitized.save(\"com\")\n",
    "mb(ft_quantitized)"
   ]
  },
  {
   "cell_type": "code",
   "execution_count": 13,
   "metadata": {},
   "outputs": [],
   "source": [
    "import importlib\n",
    "importlib.reload(temp)\n",
    "\n",
    "from gensim.models.fasttext import FastTextKeyedVectors\n",
    "\n",
    "# ft_quantitized = temp.CompressedFastTextKeyedVectors.load(\"out/compressed\")\n",
    "ft_quantitized = temp.FastTextKeyedVectors.load(\"out/compressed\")\n",
    "# ft_quantitized = FastText.load(\"out/compressed\")"
   ]
  },
  {
   "cell_type": "code",
   "execution_count": 1,
   "metadata": {},
   "outputs": [
    {
     "ename": "ModuleNotFoundError",
     "evalue": "No module named 'quantitizer'",
     "output_type": "error",
     "traceback": [
      "\u001b[0;31m---------------------------------------------------------------------------\u001b[0m",
      "\u001b[0;31mModuleNotFoundError\u001b[0m                       Traceback (most recent call last)",
      "\u001b[1;32m/home/donsangre/Projects/quantitizer/examples/fasttext example.ipynb Cell 6'\u001b[0m in \u001b[0;36m<cell line: 1>\u001b[0;34m()\u001b[0m\n\u001b[0;32m----> <a href='vscode-notebook-cell://ssh-remote%2B192.168.1.8/home/donsangre/Projects/quantitizer/examples/fasttext%20example.ipynb#ch0000005vscode-remote?line=0'>1</a>\u001b[0m \u001b[39mfrom\u001b[39;00m \u001b[39mquantitizer\u001b[39;00m\u001b[39m.\u001b[39;00m\u001b[39mintegration\u001b[39;00m\u001b[39m.\u001b[39;00m\u001b[39mgensim\u001b[39;00m\u001b[39m.\u001b[39;00m\u001b[39mevaluation\u001b[39;00m \u001b[39mimport\u001b[39;00m vecs_similarity\n\u001b[1;32m      <a href='vscode-notebook-cell://ssh-remote%2B192.168.1.8/home/donsangre/Projects/quantitizer/examples/fasttext%20example.ipynb#ch0000005vscode-remote?line=2'>3</a>\u001b[0m q \u001b[39m=\u001b[39m vecs_similarity(ft, ft_quantitized, vocab)\n\u001b[1;32m      <a href='vscode-notebook-cell://ssh-remote%2B192.168.1.8/home/donsangre/Projects/quantitizer/examples/fasttext%20example.ipynb#ch0000005vscode-remote?line=3'>4</a>\u001b[0m q\n",
      "\u001b[0;31mModuleNotFoundError\u001b[0m: No module named 'quantitizer'"
     ]
    }
   ],
   "source": [
    "from quantitizer.integration.evaluation import vecs_similarity\n",
    "\n",
    "q = vecs_similarity(ft, ft_quantitized, vocab)\n",
    "q"
   ]
  },
  {
   "cell_type": "code",
   "execution_count": 24,
   "metadata": {},
   "outputs": [
    {
     "data": {
      "text/plain": [
       "0.42782288789749146"
      ]
     },
     "execution_count": 24,
     "metadata": {},
     "output_type": "execute_result"
    }
   ],
   "source": [
    "from scipy.spatial import distance\n",
    "\n",
    "distance.cosine(original_vec, new_ft.get_vector(\"sz\"))"
   ]
  },
  {
   "cell_type": "code",
   "execution_count": 8,
   "metadata": {},
   "outputs": [],
   "source": [
    "# import pickle\n",
    "\n",
    "# with open(\"out/original.bin\", 'wb') as file:\n",
    "#     pickle.dump(ft, file)\n",
    "\n",
    "# ft.save(\"out/original\")\n",
    "\n",
    "# save_facebook_model(ft, \"out/original.bin\")"
   ]
  },
  {
   "cell_type": "code",
   "execution_count": 10,
   "metadata": {},
   "outputs": [
    {
     "ename": "IndexError",
     "evalue": "index 500000 is out of bounds for axis 0 with size 500000",
     "output_type": "error",
     "traceback": [
      "\u001b[0;31m---------------------------------------------------------------------------\u001b[0m",
      "\u001b[0;31mIndexError\u001b[0m                                Traceback (most recent call last)",
      "\u001b[1;32m/Users/donsangre/PycharmProjects/quantitizer/Test.ipynb Cell 5'\u001b[0m in \u001b[0;36m<cell line: 1>\u001b[0;34m()\u001b[0m\n\u001b[0;32m----> <a href='vscode-notebook-cell:/Users/donsangre/PycharmProjects/quantitizer/Test.ipynb#ch0000013?line=0'>1</a>\u001b[0m FastText\u001b[39m.\u001b[39;49mload(\u001b[39m\"\u001b[39;49m\u001b[39mout/original\u001b[39;49m\u001b[39m\"\u001b[39;49m)\n",
      "File \u001b[0;32m/opt/homebrew/Caskroom/miniconda/base/lib/python3.8/site-packages/gensim/models/fasttext.py:637\u001b[0m, in \u001b[0;36mFastText.load\u001b[0;34m(cls, *args, **kwargs)\u001b[0m\n\u001b[1;32m    617\u001b[0m \u001b[39m@classmethod\u001b[39m\n\u001b[1;32m    618\u001b[0m \u001b[39mdef\u001b[39;00m \u001b[39mload\u001b[39m(\u001b[39mcls\u001b[39m, \u001b[39m*\u001b[39margs, \u001b[39m*\u001b[39m\u001b[39m*\u001b[39mkwargs):\n\u001b[1;32m    619\u001b[0m     \u001b[39m\"\"\"Load a previously saved `FastText` model.\u001b[39;00m\n\u001b[1;32m    620\u001b[0m \n\u001b[1;32m    621\u001b[0m \u001b[39m    Parameters\u001b[39;00m\n\u001b[0;32m   (...)\u001b[0m\n\u001b[1;32m    635\u001b[0m \n\u001b[1;32m    636\u001b[0m \u001b[39m    \"\"\"\u001b[39;00m\n\u001b[0;32m--> 637\u001b[0m     \u001b[39mreturn\u001b[39;00m \u001b[39msuper\u001b[39;49m(FastText, \u001b[39mcls\u001b[39;49m)\u001b[39m.\u001b[39;49mload(\u001b[39m*\u001b[39;49margs, rethrow\u001b[39m=\u001b[39;49m\u001b[39mTrue\u001b[39;49;00m, \u001b[39m*\u001b[39;49m\u001b[39m*\u001b[39;49mkwargs)\n",
      "File \u001b[0;32m/opt/homebrew/Caskroom/miniconda/base/lib/python3.8/site-packages/gensim/models/word2vec.py:1939\u001b[0m, in \u001b[0;36mWord2Vec.load\u001b[0;34m(cls, rethrow, *args, **kwargs)\u001b[0m\n\u001b[1;32m   1920\u001b[0m \u001b[39m\"\"\"Load a previously saved :class:`~gensim.models.word2vec.Word2Vec` model.\u001b[39;00m\n\u001b[1;32m   1921\u001b[0m \n\u001b[1;32m   1922\u001b[0m \u001b[39mSee Also\u001b[39;00m\n\u001b[0;32m   (...)\u001b[0m\n\u001b[1;32m   1936\u001b[0m \n\u001b[1;32m   1937\u001b[0m \u001b[39m\"\"\"\u001b[39;00m\n\u001b[1;32m   1938\u001b[0m \u001b[39mtry\u001b[39;00m:\n\u001b[0;32m-> 1939\u001b[0m     model \u001b[39m=\u001b[39m \u001b[39msuper\u001b[39;49m(Word2Vec, \u001b[39mcls\u001b[39;49m)\u001b[39m.\u001b[39;49mload(\u001b[39m*\u001b[39;49margs, \u001b[39m*\u001b[39;49m\u001b[39m*\u001b[39;49mkwargs)\n\u001b[1;32m   1940\u001b[0m     \u001b[39mif\u001b[39;00m \u001b[39mnot\u001b[39;00m \u001b[39misinstance\u001b[39m(model, Word2Vec):\n\u001b[1;32m   1941\u001b[0m         rethrow \u001b[39m=\u001b[39m \u001b[39mTrue\u001b[39;00m\n",
      "File \u001b[0;32m/opt/homebrew/Caskroom/miniconda/base/lib/python3.8/site-packages/gensim/utils.py:487\u001b[0m, in \u001b[0;36mSaveLoad.load\u001b[0;34m(cls, fname, mmap)\u001b[0m\n\u001b[1;32m    484\u001b[0m compress, subname \u001b[39m=\u001b[39m SaveLoad\u001b[39m.\u001b[39m_adapt_by_suffix(fname)\n\u001b[1;32m    486\u001b[0m obj \u001b[39m=\u001b[39m unpickle(fname)\n\u001b[0;32m--> 487\u001b[0m obj\u001b[39m.\u001b[39;49m_load_specials(fname, mmap, compress, subname)\n\u001b[1;32m    488\u001b[0m obj\u001b[39m.\u001b[39madd_lifecycle_event(\u001b[39m\"\u001b[39m\u001b[39mloaded\u001b[39m\u001b[39m\"\u001b[39m, fname\u001b[39m=\u001b[39mfname)\n\u001b[1;32m    489\u001b[0m \u001b[39mreturn\u001b[39;00m obj\n",
      "File \u001b[0;32m/opt/homebrew/Caskroom/miniconda/base/lib/python3.8/site-packages/gensim/models/fasttext.py:641\u001b[0m, in \u001b[0;36mFastText._load_specials\u001b[0;34m(self, *args, **kwargs)\u001b[0m\n\u001b[1;32m    639\u001b[0m \u001b[39mdef\u001b[39;00m \u001b[39m_load_specials\u001b[39m(\u001b[39mself\u001b[39m, \u001b[39m*\u001b[39margs, \u001b[39m*\u001b[39m\u001b[39m*\u001b[39mkwargs):\n\u001b[1;32m    640\u001b[0m     \u001b[39m\"\"\"Handle special requirements of `.load()` protocol, usually up-converting older versions.\"\"\"\u001b[39;00m\n\u001b[0;32m--> 641\u001b[0m     \u001b[39msuper\u001b[39;49m(FastText, \u001b[39mself\u001b[39;49m)\u001b[39m.\u001b[39;49m_load_specials(\u001b[39m*\u001b[39;49margs, \u001b[39m*\u001b[39;49m\u001b[39m*\u001b[39;49mkwargs)\n\u001b[1;32m    642\u001b[0m     \u001b[39mif\u001b[39;00m \u001b[39mhasattr\u001b[39m(\u001b[39mself\u001b[39m, \u001b[39m'\u001b[39m\u001b[39mbucket\u001b[39m\u001b[39m'\u001b[39m):\n\u001b[1;32m    643\u001b[0m         \u001b[39m# should only exist in one place: the wv subcomponent\u001b[39;00m\n\u001b[1;32m    644\u001b[0m         \u001b[39mself\u001b[39m\u001b[39m.\u001b[39mwv\u001b[39m.\u001b[39mbucket \u001b[39m=\u001b[39m \u001b[39mself\u001b[39m\u001b[39m.\u001b[39mbucket\n",
      "File \u001b[0;32m/opt/homebrew/Caskroom/miniconda/base/lib/python3.8/site-packages/gensim/models/word2vec.py:1955\u001b[0m, in \u001b[0;36mWord2Vec._load_specials\u001b[0;34m(self, *args, **kwargs)\u001b[0m\n\u001b[1;32m   1953\u001b[0m \u001b[39mdef\u001b[39;00m \u001b[39m_load_specials\u001b[39m(\u001b[39mself\u001b[39m, \u001b[39m*\u001b[39margs, \u001b[39m*\u001b[39m\u001b[39m*\u001b[39mkwargs):\n\u001b[1;32m   1954\u001b[0m     \u001b[39m\"\"\"Handle special requirements of `.load()` protocol, usually up-converting older versions.\"\"\"\u001b[39;00m\n\u001b[0;32m-> 1955\u001b[0m     \u001b[39msuper\u001b[39;49m(Word2Vec, \u001b[39mself\u001b[39;49m)\u001b[39m.\u001b[39;49m_load_specials(\u001b[39m*\u001b[39;49margs, \u001b[39m*\u001b[39;49m\u001b[39m*\u001b[39;49mkwargs)\n\u001b[1;32m   1956\u001b[0m     \u001b[39m# for backward compatibility, add/rearrange properties from prior versions\u001b[39;00m\n\u001b[1;32m   1957\u001b[0m     \u001b[39mif\u001b[39;00m \u001b[39mnot\u001b[39;00m \u001b[39mhasattr\u001b[39m(\u001b[39mself\u001b[39m, \u001b[39m'\u001b[39m\u001b[39mns_exponent\u001b[39m\u001b[39m'\u001b[39m):\n",
      "File \u001b[0;32m/opt/homebrew/Caskroom/miniconda/base/lib/python3.8/site-packages/gensim/utils.py:518\u001b[0m, in \u001b[0;36mSaveLoad._load_specials\u001b[0;34m(self, fname, mmap, compress, subname)\u001b[0m\n\u001b[1;32m    516\u001b[0m     logger\u001b[39m.\u001b[39minfo(\u001b[39m\"\u001b[39m\u001b[39mloading \u001b[39m\u001b[39m%s\u001b[39;00m\u001b[39m recursively from \u001b[39m\u001b[39m%s\u001b[39;00m\u001b[39m.* with mmap=\u001b[39m\u001b[39m%s\u001b[39;00m\u001b[39m\"\u001b[39m, attrib, cfname, mmap)\n\u001b[1;32m    517\u001b[0m     \u001b[39mwith\u001b[39;00m ignore_deprecation_warning():\n\u001b[0;32m--> 518\u001b[0m         \u001b[39mgetattr\u001b[39;49m(\u001b[39mself\u001b[39;49m, attrib)\u001b[39m.\u001b[39;49m_load_specials(cfname, mmap, compress, subname)\n\u001b[1;32m    520\u001b[0m \u001b[39mfor\u001b[39;00m attrib \u001b[39min\u001b[39;00m \u001b[39mgetattr\u001b[39m(\u001b[39mself\u001b[39m, \u001b[39m'\u001b[39m\u001b[39m__numpys\u001b[39m\u001b[39m'\u001b[39m, []):\n\u001b[1;32m    521\u001b[0m     logger\u001b[39m.\u001b[39minfo(\u001b[39m\"\u001b[39m\u001b[39mloading \u001b[39m\u001b[39m%s\u001b[39;00m\u001b[39m from \u001b[39m\u001b[39m%s\u001b[39;00m\u001b[39m with mmap=\u001b[39m\u001b[39m%s\u001b[39;00m\u001b[39m\"\u001b[39m, attrib, subname(fname, attrib), mmap)\n",
      "File \u001b[0;32m/opt/homebrew/Caskroom/miniconda/base/lib/python3.8/site-packages/gensim/models/fasttext.py:1025\u001b[0m, in \u001b[0;36mFastTextKeyedVectors._load_specials\u001b[0;34m(self, *args, **kwargs)\u001b[0m\n\u001b[1;32m   1023\u001b[0m     \u001b[39mself\u001b[39m\u001b[39m.\u001b[39mrecalc_char_ngram_buckets()\n\u001b[1;32m   1024\u001b[0m \u001b[39mif\u001b[39;00m \u001b[39mnot\u001b[39;00m \u001b[39mhasattr\u001b[39m(\u001b[39mself\u001b[39m, \u001b[39m'\u001b[39m\u001b[39mvectors\u001b[39m\u001b[39m'\u001b[39m) \u001b[39mor\u001b[39;00m \u001b[39mself\u001b[39m\u001b[39m.\u001b[39mvectors \u001b[39mis\u001b[39;00m \u001b[39mNone\u001b[39;00m:\n\u001b[0;32m-> 1025\u001b[0m     \u001b[39mself\u001b[39;49m\u001b[39m.\u001b[39;49madjust_vectors()\n",
      "File \u001b[0;32m/opt/homebrew/Caskroom/miniconda/base/lib/python3.8/site-packages/gensim/models/fasttext.py:1207\u001b[0m, in \u001b[0;36mFastTextKeyedVectors.adjust_vectors\u001b[0;34m(self)\u001b[0m\n\u001b[1;32m   1205\u001b[0m ngram_buckets \u001b[39m=\u001b[39m \u001b[39mself\u001b[39m\u001b[39m.\u001b[39mbuckets_word[i]\n\u001b[1;32m   1206\u001b[0m \u001b[39mfor\u001b[39;00m nh \u001b[39min\u001b[39;00m ngram_buckets:\n\u001b[0;32m-> 1207\u001b[0m     \u001b[39mself\u001b[39m\u001b[39m.\u001b[39mvectors[i] \u001b[39m+\u001b[39m\u001b[39m=\u001b[39m \u001b[39mself\u001b[39m\u001b[39m.\u001b[39mvectors_ngrams[nh]\n\u001b[1;32m   1208\u001b[0m \u001b[39mself\u001b[39m\u001b[39m.\u001b[39mvectors[i] \u001b[39m/\u001b[39m\u001b[39m=\u001b[39m \u001b[39mlen\u001b[39m(ngram_buckets) \u001b[39m+\u001b[39m \u001b[39m1\u001b[39m\n",
      "\u001b[0;31mIndexError\u001b[0m: index 500000 is out of bounds for axis 0 with size 500000"
     ]
    }
   ],
   "source": [
    "FastText.load(\"out/original\")"
   ]
  },
  {
   "cell_type": "code",
   "execution_count": 75,
   "metadata": {},
   "outputs": [],
   "source": [
    "new_ft = copy.deepcopy(ft)"
   ]
  },
  {
   "cell_type": "code",
   "execution_count": 76,
   "metadata": {},
   "outputs": [
    {
     "data": {
      "text/plain": [
       "(500000, 300)"
      ]
     },
     "execution_count": 76,
     "metadata": {},
     "output_type": "execute_result"
    }
   ],
   "source": [
    "new_ft.wv.vectors_ngrams.shape"
   ]
  },
  {
   "cell_type": "code",
   "execution_count": 77,
   "metadata": {},
   "outputs": [
    {
     "ename": "KeyboardInterrupt",
     "evalue": "",
     "output_type": "error",
     "traceback": [
      "\u001b[0;31m---------------------------------------------------------------------------\u001b[0m",
      "\u001b[0;31mKeyboardInterrupt\u001b[0m                         Traceback (most recent call last)",
      "\u001b[1;32m/Users/donsangre/PycharmProjects/quantitizer/Test.ipynb Cell 6'\u001b[0m in \u001b[0;36m<cell line: 4>\u001b[0;34m()\u001b[0m\n\u001b[1;32m      <a href='vscode-notebook-cell:/Users/donsangre/PycharmProjects/quantitizer/Test.ipynb#ch0000003?line=0'>1</a>\u001b[0m \u001b[39mfrom\u001b[39;00m \u001b[39mquantitizer\u001b[39;00m \u001b[39mimport\u001b[39;00m quantitize\n\u001b[1;32m      <a href='vscode-notebook-cell:/Users/donsangre/PycharmProjects/quantitizer/Test.ipynb#ch0000003?line=2'>3</a>\u001b[0m new_ft\u001b[39m.\u001b[39mwv\u001b[39m.\u001b[39mvectors_ngrams \u001b[39m=\u001b[39m quantitize(new_ft\u001b[39m.\u001b[39mwv\u001b[39m.\u001b[39mvectors_ngrams, sub_size\u001b[39m=\u001b[39m\u001b[39m2\u001b[39m)\n\u001b[0;32m----> <a href='vscode-notebook-cell:/Users/donsangre/PycharmProjects/quantitizer/Test.ipynb#ch0000003?line=3'>4</a>\u001b[0m new_ft\u001b[39m.\u001b[39mwv\u001b[39m.\u001b[39mvectors \u001b[39m=\u001b[39m quantitize(new_ft\u001b[39m.\u001b[39;49mwv\u001b[39m.\u001b[39;49mvectors, sub_size\u001b[39m=\u001b[39;49m\u001b[39m2\u001b[39;49m)\n",
      "File \u001b[0;32m~/PycharmProjects/quantitizer/quantitizer.py:17\u001b[0m, in \u001b[0;36mquantitize\u001b[0;34m(vectors, sub_size, n_cluster, n_iter, minit, seed)\u001b[0m\n\u001b[1;32m     15\u001b[0m code_books, indexes \u001b[39m=\u001b[39m [], []\n\u001b[1;32m     16\u001b[0m \u001b[39mfor\u001b[39;00m part \u001b[39min\u001b[39;00m parts:\n\u001b[0;32m---> 17\u001b[0m     centroid, label \u001b[39m=\u001b[39m kmeans2(\n\u001b[1;32m     18\u001b[0m         part, n_cluster, n_iter, minit\u001b[39m=\u001b[39;49mminit, seed\u001b[39m=\u001b[39;49mseed)\n\u001b[1;32m     19\u001b[0m     code_books\u001b[39m.\u001b[39mappend(centroid)\n\u001b[1;32m     20\u001b[0m     indexes\u001b[39m.\u001b[39mappend(label)\n",
      "File \u001b[0;32m/opt/homebrew/Caskroom/miniconda/base/lib/python3.8/site-packages/scipy/cluster/vq.py:792\u001b[0m, in \u001b[0;36mkmeans2\u001b[0;34m(data, k, iter, thresh, minit, missing, check_finite, seed)\u001b[0m\n\u001b[1;32m    788\u001b[0m         code_book \u001b[39m=\u001b[39m init_meth(data, k, rng)\n\u001b[1;32m    790\u001b[0m \u001b[39mfor\u001b[39;00m i \u001b[39min\u001b[39;00m \u001b[39mrange\u001b[39m(\u001b[39miter\u001b[39m):\n\u001b[1;32m    791\u001b[0m     \u001b[39m# Compute the nearest neighbor for each obs using the current code book\u001b[39;00m\n\u001b[0;32m--> 792\u001b[0m     label \u001b[39m=\u001b[39m vq(data, code_book)[\u001b[39m0\u001b[39m]\n\u001b[1;32m    793\u001b[0m     \u001b[39m# Update the code book by computing centroids\u001b[39;00m\n\u001b[1;32m    794\u001b[0m     new_code_book, has_members \u001b[39m=\u001b[39m _vq\u001b[39m.\u001b[39mupdate_cluster_means(data, label, nc)\n",
      "File \u001b[0;32m/opt/homebrew/Caskroom/miniconda/base/lib/python3.8/site-packages/scipy/cluster/vq.py:208\u001b[0m, in \u001b[0;36mvq\u001b[0;34m(obs, code_book, check_finite)\u001b[0m\n\u001b[1;32m    205\u001b[0m c_code_book \u001b[39m=\u001b[39m code_book\u001b[39m.\u001b[39mastype(ct, copy\u001b[39m=\u001b[39m\u001b[39mFalse\u001b[39;00m)\n\u001b[1;32m    207\u001b[0m \u001b[39mif\u001b[39;00m np\u001b[39m.\u001b[39missubdtype(ct, np\u001b[39m.\u001b[39mfloat64) \u001b[39mor\u001b[39;00m np\u001b[39m.\u001b[39missubdtype(ct, np\u001b[39m.\u001b[39mfloat32):\n\u001b[0;32m--> 208\u001b[0m     \u001b[39mreturn\u001b[39;00m _vq\u001b[39m.\u001b[39;49mvq(c_obs, c_code_book)\n\u001b[1;32m    209\u001b[0m \u001b[39mreturn\u001b[39;00m py_vq(obs, code_book, check_finite\u001b[39m=\u001b[39m\u001b[39mFalse\u001b[39;00m)\n",
      "\u001b[0;31mKeyboardInterrupt\u001b[0m: "
     ]
    }
   ],
   "source": [
    "from quantitizer import quantitize\n",
    "\n",
    "new_ft.wv.vectors_ngrams = quantitize(new_ft.wv.vectors_ngrams, sub_size=2)\n",
    "new_ft.wv.vectors = quantitize(new_ft.wv.vectors, sub_size=2)"
   ]
  },
  {
   "cell_type": "code",
   "execution_count": 59,
   "metadata": {},
   "outputs": [],
   "source": [
    "compressed_vec = new_ft.wv.get_vector(\"sz\")"
   ]
  },
  {
   "cell_type": "code",
   "execution_count": 60,
   "metadata": {},
   "outputs": [
    {
     "data": {
      "text/plain": [
       "0"
      ]
     },
     "execution_count": 60,
     "metadata": {},
     "output_type": "execute_result"
    }
   ],
   "source": [
    "from scipy.spatial import distance\n",
    "\n",
    "distance.cosine(original_vec, compressed_vec)"
   ]
  },
  {
   "cell_type": "code",
   "execution_count": 69,
   "metadata": {},
   "outputs": [],
   "source": [
    "with open(\"out/compressed.bin\", 'wb') as file:\n",
    "    pickle.dump(new_ft, file)\n",
    "# save_facebook_model(new_ft, \"out/compressed.bin\")"
   ]
  },
  {
   "cell_type": "code",
   "execution_count": 74,
   "metadata": {},
   "outputs": [
    {
     "data": {
      "text/plain": [
       "2288"
      ]
     },
     "execution_count": 74,
     "metadata": {},
     "output_type": "execute_result"
    }
   ],
   "source": [
    "ft.wv.vectors.nbytes // 1024 // 1024"
   ]
  },
  {
   "cell_type": "code",
   "execution_count": 73,
   "metadata": {},
   "outputs": [
    {
     "data": {
      "text/plain": [
       "572"
      ]
     },
     "execution_count": 73,
     "metadata": {},
     "output_type": "execute_result"
    }
   ],
   "source": [
    "ft.wv.vectors_ngrams.nbytes // 1024 // 1024"
   ]
  },
  {
   "cell_type": "code",
   "execution_count": 72,
   "metadata": {},
   "outputs": [
    {
     "data": {
      "text/plain": [
       "4"
      ]
     },
     "execution_count": 72,
     "metadata": {},
     "output_type": "execute_result"
    }
   ],
   "source": [
    "new_ft.wv.vectors_ngrams.nbytes // 1024 // 1024"
   ]
  },
  {
   "cell_type": "code",
   "execution_count": null,
   "metadata": {},
   "outputs": [],
   "source": []
  }
 ],
 "metadata": {
  "kernelspec": {
   "display_name": "Python 3.8.13 ('base')",
   "language": "python",
   "name": "python3"
  },
  "language_info": {
   "codemirror_mode": {
    "name": "ipython",
    "version": 3
   },
   "file_extension": ".py",
   "mimetype": "text/x-python",
   "name": "python",
   "nbconvert_exporter": "python",
   "pygments_lexer": "ipython3",
   "version": "3.8.13"
  },
  "orig_nbformat": 4,
  "vscode": {
   "interpreter": {
    "hash": "e7cb1b9ae4d417fedf7f40a8eec98f7cfbd359e096bd857395a915f4609834ce"
   }
  }
 },
 "nbformat": 4,
 "nbformat_minor": 2
}
