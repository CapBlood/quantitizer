{
 "cells": [
  {
   "cell_type": "code",
   "execution_count": 3,
   "metadata": {},
   "outputs": [],
   "source": [
    "import sys\n",
    "import os\n",
    "\n",
    "sys.path.append(\"..\")"
   ]
  },
  {
   "cell_type": "code",
   "execution_count": 5,
   "metadata": {},
   "outputs": [
    {
     "name": "stderr",
     "output_type": "stream",
     "text": [
      "/var/folders/lm/0j0v2m453ks57mmwdnjfvz700000gn/T/ipykernel_47221/163731476.py:10: DeprecationWarning: Call to deprecated `load_fasttext_format` (use load_facebook_vectors (to use pretrained embeddings) or load_facebook_model (to continue training with the loaded full model, more RAM) instead).\n",
      "  ft = FastText.load_fasttext_format(\"../data/cc.en.300.bin\").wv\n"
     ]
    },
    {
     "data": {
      "text/plain": [
       "7215.576073646545"
      ]
     },
     "execution_count": 5,
     "metadata": {},
     "output_type": "execute_result"
    }
   ],
   "source": [
    "import copy\n",
    "\n",
    "import numpy as np\n",
    "from gensim.models import FastText\n",
    "from gensim.models.fasttext import save_facebook_model\n",
    "\n",
    "from quantitizer.utils import mb\n",
    "from quantitizer.integration.gensim.fasttext import make_new_fasttext_model\n",
    "\n",
    "ft = FastText.load_fasttext_format(\"../data/cc.en.300.bin\").wv\n",
    "mb(ft)"
   ]
  },
  {
   "cell_type": "code",
   "execution_count": 13,
   "metadata": {},
   "outputs": [
    {
     "data": {
      "text/plain": [
       "2533.0597734451294"
      ]
     },
     "execution_count": 13,
     "metadata": {},
     "output_type": "execute_result"
    }
   ],
   "source": [
    "# ft_float16 = make_new_fasttext_model(\n",
    "#     ft, ft.vectors.astype(np.float16),\n",
    "#     ft.vectors_ngrams.astype(np.float16))\n",
    "# mb(ft_float16)"
   ]
  },
  {
   "cell_type": "code",
   "execution_count": 6,
   "metadata": {},
   "outputs": [
    {
     "data": {
      "text/plain": [
       "268.9799814224243"
      ]
     },
     "execution_count": 6,
     "metadata": {},
     "output_type": "execute_result"
    }
   ],
   "source": [
    "import quantitizer as q\n",
    "import importlib\n",
    "importlib.reload(q)\n",
    "\n",
    "ft_quantitized = make_new_fasttext_model(\n",
    "    ft, q.quantitize(ft.vectors, sub_size=2, n_iter=5),\n",
    "    q.quantitize(ft.vectors_ngrams, sub_size=2, n_iter=5))\n",
    "mb(ft_quantitized)"
   ]
  },
  {
   "cell_type": "code",
   "execution_count": 19,
   "metadata": {},
   "outputs": [
    {
     "data": {
      "text/plain": [
       "PQ(\n",
       "    vectors=2000000,\n",
       "    dim=300,\n",
       "    qdim=2,\n",
       "    centroids=256,\n",
       "    indexes=array([[ -29,  -53],\n",
       "           [ 105,   76],\n",
       "           [ -29,  -85],\n",
       "           ...,\n",
       "           [ -89, -128],\n",
       "           [  59,   59],\n",
       "           [ -68,  -68]], dtype=int8),\n",
       "    codes=array([[[ 0.0991  , -0.05472 , -0.0632  , ..., -0.1407  , -0.00492 ,\n",
       "              0.0662  ],\n",
       "            [-0.013466,  0.000627,  0.0339  , ...,  0.1682  ,  0.0283  ,\n",
       "             -0.02168 ],\n",
       "            [ 0.126   , -0.05    , -0.03745 , ..., -0.0897  , -0.02342 ,\n",
       "              0.12286 ],\n",
       "            ...,\n",
       "            [-0.01318 ,  0.0129  , -0.0374  , ..., -0.0334  ,  0.03912 ,\n",
       "              0.003986],\n",
       "            [-0.01445 , -0.01126 , -0.01611 , ..., -0.02122 , -0.003088,\n",
       "             -0.000951],\n",
       "            [ 0.0056  ,  0.02817 ,  0.005966, ...,  0.01335 , -0.001749,\n",
       "              0.05124 ]],\n",
       "    \n",
       "           [[-0.0436  , -0.0416  , -0.07825 , ...,  0.1666  ,  0.01223 ,\n",
       "              0.02135 ],\n",
       "            [-0.005585, -0.0217  ,  0.01109 , ...,  0.1826  , -0.0646  ,\n",
       "             -0.00747 ],\n",
       "            [ 0.03265 , -0.04083 ,  0.0175  , ...,  0.2917  , -0.1213  ,\n",
       "              0.03955 ],\n",
       "            ...,\n",
       "            [-0.074   , -0.01444 , -0.09875 , ...,  0.133   , -0.02715 ,\n",
       "             -0.07434 ],\n",
       "            [-0.0058  , -0.0381  ,  0.0099  , ...,  0.06415 , -0.01917 ,\n",
       "             -0.02695 ],\n",
       "            [-0.05228 ,  0.00753 , -0.0485  , ...,  0.0652  ,  0.00758 ,\n",
       "              0.02626 ]]], dtype=float16)\n",
       ")"
      ]
     },
     "execution_count": 19,
     "metadata": {},
     "output_type": "execute_result"
    }
   ],
   "source": [
    "ft_quantitized.vectors"
   ]
  },
  {
   "cell_type": "code",
   "execution_count": 5,
   "metadata": {},
   "outputs": [],
   "source": [
    "ft_quantitized.save(\"out/compressed\")"
   ]
  },
  {
   "cell_type": "code",
   "execution_count": 13,
   "metadata": {},
   "outputs": [],
   "source": [
    "import temp\n",
    "import importlib\n",
    "importlib.reload(temp)\n",
    "\n",
    "from gensim.models.fasttext import FastTextKeyedVectors\n",
    "\n",
    "# ft_quantitized = temp.CompressedFastTextKeyedVectors.load(\"out/compressed\")\n",
    "ft_quantitized = temp.FastTextKeyedVectors.load(\"out/compressed\")\n",
    "# ft_quantitized = FastText.load(\"out/compressed\")"
   ]
  },
  {
   "cell_type": "code",
   "execution_count": 14,
   "metadata": {},
   "outputs": [
    {
     "data": {
      "text/plain": [
       "PQ(\n",
       "    vectors=2000000,\n",
       "    dim=300,\n",
       "    qdim=2,\n",
       "    centroids=256,\n",
       "    indexes=array([[183,  29],\n",
       "           [  7,  66],\n",
       "           [208, 220],\n",
       "           ...,\n",
       "           [ 76,  40],\n",
       "           [215,  76],\n",
       "           [137, 105]], dtype=int32),\n",
       "    codes=array([[[ 0.00075224, -0.00508452, -0.00209744, ..., -0.00410097,\n",
       "              0.00487271,  0.01143065],\n",
       "            [-0.01336251, -0.00854813, -0.01657207, ..., -0.0121797 ,\n",
       "             -0.04402795,  0.09026501],\n",
       "            [ 0.01800587, -0.00977852, -0.00773467, ...,  0.01342367,\n",
       "             -0.00783198, -0.00703052],\n",
       "            ...,\n",
       "            [ 0.01005863,  0.00398296,  0.000291  , ..., -0.00291621,\n",
       "              0.00306022, -0.02094289],\n",
       "            [-0.00147054, -0.01458951, -0.01213949, ...,  0.00578341,\n",
       "              0.00209298,  0.00941269],\n",
       "            [ 0.03381471, -0.06974418, -0.01579198, ...,  0.00762085,\n",
       "              0.00227993,  0.03332646]],\n",
       "    \n",
       "           [[ 0.02149276, -0.03359466,  0.0463151 , ...,  0.02963744,\n",
       "             -0.02575566, -0.01060716],\n",
       "            [ 0.10993842,  0.03427779, -0.16297866, ...,  0.05605687,\n",
       "              0.15829681, -0.04529694],\n",
       "            [-0.02342404,  0.00683603, -0.03879839, ...,  0.05626256,\n",
       "             -0.00973773, -0.00432994],\n",
       "            ...,\n",
       "            [-0.01142345,  0.00282225, -0.03053501, ...,  0.02328889,\n",
       "              0.00271553,  0.0239842 ],\n",
       "            [ 0.00192782, -0.00601583, -0.01966596, ...,  0.03476851,\n",
       "              0.00426141, -0.01209374],\n",
       "            [-0.083418  ,  0.05594027, -0.04852983, ...,  0.0809452 ,\n",
       "             -0.01025282, -0.12306321]]], dtype=float32)\n",
       ")"
      ]
     },
     "execution_count": 14,
     "metadata": {},
     "output_type": "execute_result"
    }
   ],
   "source": [
    "ft_quantitized.vectors_ngrams"
   ]
  },
  {
   "cell_type": "code",
   "execution_count": 11,
   "metadata": {},
   "outputs": [
    {
     "data": {
      "text/plain": [
       "0.40992091278691123"
      ]
     },
     "execution_count": 11,
     "metadata": {},
     "output_type": "execute_result"
    }
   ],
   "source": [
    "from evaluation import vecs_similarity\n",
    "\n",
    "q = vecs_similarity(ft, ft_quantitized, [\"length\", \"sz\"])\n",
    "q"
   ]
  },
  {
   "cell_type": "code",
   "execution_count": 24,
   "metadata": {},
   "outputs": [
    {
     "data": {
      "text/plain": [
       "0.42782288789749146"
      ]
     },
     "execution_count": 24,
     "metadata": {},
     "output_type": "execute_result"
    }
   ],
   "source": [
    "from scipy.spatial import distance\n",
    "\n",
    "distance.cosine(original_vec, new_ft.get_vector(\"sz\"))"
   ]
  },
  {
   "cell_type": "code",
   "execution_count": 8,
   "metadata": {},
   "outputs": [],
   "source": [
    "# import pickle\n",
    "\n",
    "# with open(\"out/original.bin\", 'wb') as file:\n",
    "#     pickle.dump(ft, file)\n",
    "\n",
    "# ft.save(\"out/original\")\n",
    "\n",
    "# save_facebook_model(ft, \"out/original.bin\")"
   ]
  },
  {
   "cell_type": "code",
   "execution_count": 10,
   "metadata": {},
   "outputs": [
    {
     "ename": "IndexError",
     "evalue": "index 500000 is out of bounds for axis 0 with size 500000",
     "output_type": "error",
     "traceback": [
      "\u001b[0;31m---------------------------------------------------------------------------\u001b[0m",
      "\u001b[0;31mIndexError\u001b[0m                                Traceback (most recent call last)",
      "\u001b[1;32m/Users/donsangre/PycharmProjects/quantitizer/Test.ipynb Cell 5'\u001b[0m in \u001b[0;36m<cell line: 1>\u001b[0;34m()\u001b[0m\n\u001b[0;32m----> <a href='vscode-notebook-cell:/Users/donsangre/PycharmProjects/quantitizer/Test.ipynb#ch0000013?line=0'>1</a>\u001b[0m FastText\u001b[39m.\u001b[39;49mload(\u001b[39m\"\u001b[39;49m\u001b[39mout/original\u001b[39;49m\u001b[39m\"\u001b[39;49m)\n",
      "File \u001b[0;32m/opt/homebrew/Caskroom/miniconda/base/lib/python3.8/site-packages/gensim/models/fasttext.py:637\u001b[0m, in \u001b[0;36mFastText.load\u001b[0;34m(cls, *args, **kwargs)\u001b[0m\n\u001b[1;32m    617\u001b[0m \u001b[39m@classmethod\u001b[39m\n\u001b[1;32m    618\u001b[0m \u001b[39mdef\u001b[39;00m \u001b[39mload\u001b[39m(\u001b[39mcls\u001b[39m, \u001b[39m*\u001b[39margs, \u001b[39m*\u001b[39m\u001b[39m*\u001b[39mkwargs):\n\u001b[1;32m    619\u001b[0m     \u001b[39m\"\"\"Load a previously saved `FastText` model.\u001b[39;00m\n\u001b[1;32m    620\u001b[0m \n\u001b[1;32m    621\u001b[0m \u001b[39m    Parameters\u001b[39;00m\n\u001b[0;32m   (...)\u001b[0m\n\u001b[1;32m    635\u001b[0m \n\u001b[1;32m    636\u001b[0m \u001b[39m    \"\"\"\u001b[39;00m\n\u001b[0;32m--> 637\u001b[0m     \u001b[39mreturn\u001b[39;00m \u001b[39msuper\u001b[39;49m(FastText, \u001b[39mcls\u001b[39;49m)\u001b[39m.\u001b[39;49mload(\u001b[39m*\u001b[39;49margs, rethrow\u001b[39m=\u001b[39;49m\u001b[39mTrue\u001b[39;49;00m, \u001b[39m*\u001b[39;49m\u001b[39m*\u001b[39;49mkwargs)\n",
      "File \u001b[0;32m/opt/homebrew/Caskroom/miniconda/base/lib/python3.8/site-packages/gensim/models/word2vec.py:1939\u001b[0m, in \u001b[0;36mWord2Vec.load\u001b[0;34m(cls, rethrow, *args, **kwargs)\u001b[0m\n\u001b[1;32m   1920\u001b[0m \u001b[39m\"\"\"Load a previously saved :class:`~gensim.models.word2vec.Word2Vec` model.\u001b[39;00m\n\u001b[1;32m   1921\u001b[0m \n\u001b[1;32m   1922\u001b[0m \u001b[39mSee Also\u001b[39;00m\n\u001b[0;32m   (...)\u001b[0m\n\u001b[1;32m   1936\u001b[0m \n\u001b[1;32m   1937\u001b[0m \u001b[39m\"\"\"\u001b[39;00m\n\u001b[1;32m   1938\u001b[0m \u001b[39mtry\u001b[39;00m:\n\u001b[0;32m-> 1939\u001b[0m     model \u001b[39m=\u001b[39m \u001b[39msuper\u001b[39;49m(Word2Vec, \u001b[39mcls\u001b[39;49m)\u001b[39m.\u001b[39;49mload(\u001b[39m*\u001b[39;49margs, \u001b[39m*\u001b[39;49m\u001b[39m*\u001b[39;49mkwargs)\n\u001b[1;32m   1940\u001b[0m     \u001b[39mif\u001b[39;00m \u001b[39mnot\u001b[39;00m \u001b[39misinstance\u001b[39m(model, Word2Vec):\n\u001b[1;32m   1941\u001b[0m         rethrow \u001b[39m=\u001b[39m \u001b[39mTrue\u001b[39;00m\n",
      "File \u001b[0;32m/opt/homebrew/Caskroom/miniconda/base/lib/python3.8/site-packages/gensim/utils.py:487\u001b[0m, in \u001b[0;36mSaveLoad.load\u001b[0;34m(cls, fname, mmap)\u001b[0m\n\u001b[1;32m    484\u001b[0m compress, subname \u001b[39m=\u001b[39m SaveLoad\u001b[39m.\u001b[39m_adapt_by_suffix(fname)\n\u001b[1;32m    486\u001b[0m obj \u001b[39m=\u001b[39m unpickle(fname)\n\u001b[0;32m--> 487\u001b[0m obj\u001b[39m.\u001b[39;49m_load_specials(fname, mmap, compress, subname)\n\u001b[1;32m    488\u001b[0m obj\u001b[39m.\u001b[39madd_lifecycle_event(\u001b[39m\"\u001b[39m\u001b[39mloaded\u001b[39m\u001b[39m\"\u001b[39m, fname\u001b[39m=\u001b[39mfname)\n\u001b[1;32m    489\u001b[0m \u001b[39mreturn\u001b[39;00m obj\n",
      "File \u001b[0;32m/opt/homebrew/Caskroom/miniconda/base/lib/python3.8/site-packages/gensim/models/fasttext.py:641\u001b[0m, in \u001b[0;36mFastText._load_specials\u001b[0;34m(self, *args, **kwargs)\u001b[0m\n\u001b[1;32m    639\u001b[0m \u001b[39mdef\u001b[39;00m \u001b[39m_load_specials\u001b[39m(\u001b[39mself\u001b[39m, \u001b[39m*\u001b[39margs, \u001b[39m*\u001b[39m\u001b[39m*\u001b[39mkwargs):\n\u001b[1;32m    640\u001b[0m     \u001b[39m\"\"\"Handle special requirements of `.load()` protocol, usually up-converting older versions.\"\"\"\u001b[39;00m\n\u001b[0;32m--> 641\u001b[0m     \u001b[39msuper\u001b[39;49m(FastText, \u001b[39mself\u001b[39;49m)\u001b[39m.\u001b[39;49m_load_specials(\u001b[39m*\u001b[39;49margs, \u001b[39m*\u001b[39;49m\u001b[39m*\u001b[39;49mkwargs)\n\u001b[1;32m    642\u001b[0m     \u001b[39mif\u001b[39;00m \u001b[39mhasattr\u001b[39m(\u001b[39mself\u001b[39m, \u001b[39m'\u001b[39m\u001b[39mbucket\u001b[39m\u001b[39m'\u001b[39m):\n\u001b[1;32m    643\u001b[0m         \u001b[39m# should only exist in one place: the wv subcomponent\u001b[39;00m\n\u001b[1;32m    644\u001b[0m         \u001b[39mself\u001b[39m\u001b[39m.\u001b[39mwv\u001b[39m.\u001b[39mbucket \u001b[39m=\u001b[39m \u001b[39mself\u001b[39m\u001b[39m.\u001b[39mbucket\n",
      "File \u001b[0;32m/opt/homebrew/Caskroom/miniconda/base/lib/python3.8/site-packages/gensim/models/word2vec.py:1955\u001b[0m, in \u001b[0;36mWord2Vec._load_specials\u001b[0;34m(self, *args, **kwargs)\u001b[0m\n\u001b[1;32m   1953\u001b[0m \u001b[39mdef\u001b[39;00m \u001b[39m_load_specials\u001b[39m(\u001b[39mself\u001b[39m, \u001b[39m*\u001b[39margs, \u001b[39m*\u001b[39m\u001b[39m*\u001b[39mkwargs):\n\u001b[1;32m   1954\u001b[0m     \u001b[39m\"\"\"Handle special requirements of `.load()` protocol, usually up-converting older versions.\"\"\"\u001b[39;00m\n\u001b[0;32m-> 1955\u001b[0m     \u001b[39msuper\u001b[39;49m(Word2Vec, \u001b[39mself\u001b[39;49m)\u001b[39m.\u001b[39;49m_load_specials(\u001b[39m*\u001b[39;49margs, \u001b[39m*\u001b[39;49m\u001b[39m*\u001b[39;49mkwargs)\n\u001b[1;32m   1956\u001b[0m     \u001b[39m# for backward compatibility, add/rearrange properties from prior versions\u001b[39;00m\n\u001b[1;32m   1957\u001b[0m     \u001b[39mif\u001b[39;00m \u001b[39mnot\u001b[39;00m \u001b[39mhasattr\u001b[39m(\u001b[39mself\u001b[39m, \u001b[39m'\u001b[39m\u001b[39mns_exponent\u001b[39m\u001b[39m'\u001b[39m):\n",
      "File \u001b[0;32m/opt/homebrew/Caskroom/miniconda/base/lib/python3.8/site-packages/gensim/utils.py:518\u001b[0m, in \u001b[0;36mSaveLoad._load_specials\u001b[0;34m(self, fname, mmap, compress, subname)\u001b[0m\n\u001b[1;32m    516\u001b[0m     logger\u001b[39m.\u001b[39minfo(\u001b[39m\"\u001b[39m\u001b[39mloading \u001b[39m\u001b[39m%s\u001b[39;00m\u001b[39m recursively from \u001b[39m\u001b[39m%s\u001b[39;00m\u001b[39m.* with mmap=\u001b[39m\u001b[39m%s\u001b[39;00m\u001b[39m\"\u001b[39m, attrib, cfname, mmap)\n\u001b[1;32m    517\u001b[0m     \u001b[39mwith\u001b[39;00m ignore_deprecation_warning():\n\u001b[0;32m--> 518\u001b[0m         \u001b[39mgetattr\u001b[39;49m(\u001b[39mself\u001b[39;49m, attrib)\u001b[39m.\u001b[39;49m_load_specials(cfname, mmap, compress, subname)\n\u001b[1;32m    520\u001b[0m \u001b[39mfor\u001b[39;00m attrib \u001b[39min\u001b[39;00m \u001b[39mgetattr\u001b[39m(\u001b[39mself\u001b[39m, \u001b[39m'\u001b[39m\u001b[39m__numpys\u001b[39m\u001b[39m'\u001b[39m, []):\n\u001b[1;32m    521\u001b[0m     logger\u001b[39m.\u001b[39minfo(\u001b[39m\"\u001b[39m\u001b[39mloading \u001b[39m\u001b[39m%s\u001b[39;00m\u001b[39m from \u001b[39m\u001b[39m%s\u001b[39;00m\u001b[39m with mmap=\u001b[39m\u001b[39m%s\u001b[39;00m\u001b[39m\"\u001b[39m, attrib, subname(fname, attrib), mmap)\n",
      "File \u001b[0;32m/opt/homebrew/Caskroom/miniconda/base/lib/python3.8/site-packages/gensim/models/fasttext.py:1025\u001b[0m, in \u001b[0;36mFastTextKeyedVectors._load_specials\u001b[0;34m(self, *args, **kwargs)\u001b[0m\n\u001b[1;32m   1023\u001b[0m     \u001b[39mself\u001b[39m\u001b[39m.\u001b[39mrecalc_char_ngram_buckets()\n\u001b[1;32m   1024\u001b[0m \u001b[39mif\u001b[39;00m \u001b[39mnot\u001b[39;00m \u001b[39mhasattr\u001b[39m(\u001b[39mself\u001b[39m, \u001b[39m'\u001b[39m\u001b[39mvectors\u001b[39m\u001b[39m'\u001b[39m) \u001b[39mor\u001b[39;00m \u001b[39mself\u001b[39m\u001b[39m.\u001b[39mvectors \u001b[39mis\u001b[39;00m \u001b[39mNone\u001b[39;00m:\n\u001b[0;32m-> 1025\u001b[0m     \u001b[39mself\u001b[39;49m\u001b[39m.\u001b[39;49madjust_vectors()\n",
      "File \u001b[0;32m/opt/homebrew/Caskroom/miniconda/base/lib/python3.8/site-packages/gensim/models/fasttext.py:1207\u001b[0m, in \u001b[0;36mFastTextKeyedVectors.adjust_vectors\u001b[0;34m(self)\u001b[0m\n\u001b[1;32m   1205\u001b[0m ngram_buckets \u001b[39m=\u001b[39m \u001b[39mself\u001b[39m\u001b[39m.\u001b[39mbuckets_word[i]\n\u001b[1;32m   1206\u001b[0m \u001b[39mfor\u001b[39;00m nh \u001b[39min\u001b[39;00m ngram_buckets:\n\u001b[0;32m-> 1207\u001b[0m     \u001b[39mself\u001b[39m\u001b[39m.\u001b[39mvectors[i] \u001b[39m+\u001b[39m\u001b[39m=\u001b[39m \u001b[39mself\u001b[39m\u001b[39m.\u001b[39mvectors_ngrams[nh]\n\u001b[1;32m   1208\u001b[0m \u001b[39mself\u001b[39m\u001b[39m.\u001b[39mvectors[i] \u001b[39m/\u001b[39m\u001b[39m=\u001b[39m \u001b[39mlen\u001b[39m(ngram_buckets) \u001b[39m+\u001b[39m \u001b[39m1\u001b[39m\n",
      "\u001b[0;31mIndexError\u001b[0m: index 500000 is out of bounds for axis 0 with size 500000"
     ]
    }
   ],
   "source": [
    "FastText.load(\"out/original\")"
   ]
  },
  {
   "cell_type": "code",
   "execution_count": 75,
   "metadata": {},
   "outputs": [],
   "source": [
    "new_ft = copy.deepcopy(ft)"
   ]
  },
  {
   "cell_type": "code",
   "execution_count": 76,
   "metadata": {},
   "outputs": [
    {
     "data": {
      "text/plain": [
       "(500000, 300)"
      ]
     },
     "execution_count": 76,
     "metadata": {},
     "output_type": "execute_result"
    }
   ],
   "source": [
    "new_ft.wv.vectors_ngrams.shape"
   ]
  },
  {
   "cell_type": "code",
   "execution_count": 77,
   "metadata": {},
   "outputs": [
    {
     "ename": "KeyboardInterrupt",
     "evalue": "",
     "output_type": "error",
     "traceback": [
      "\u001b[0;31m---------------------------------------------------------------------------\u001b[0m",
      "\u001b[0;31mKeyboardInterrupt\u001b[0m                         Traceback (most recent call last)",
      "\u001b[1;32m/Users/donsangre/PycharmProjects/quantitizer/Test.ipynb Cell 6'\u001b[0m in \u001b[0;36m<cell line: 4>\u001b[0;34m()\u001b[0m\n\u001b[1;32m      <a href='vscode-notebook-cell:/Users/donsangre/PycharmProjects/quantitizer/Test.ipynb#ch0000003?line=0'>1</a>\u001b[0m \u001b[39mfrom\u001b[39;00m \u001b[39mquantitizer\u001b[39;00m \u001b[39mimport\u001b[39;00m quantitize\n\u001b[1;32m      <a href='vscode-notebook-cell:/Users/donsangre/PycharmProjects/quantitizer/Test.ipynb#ch0000003?line=2'>3</a>\u001b[0m new_ft\u001b[39m.\u001b[39mwv\u001b[39m.\u001b[39mvectors_ngrams \u001b[39m=\u001b[39m quantitize(new_ft\u001b[39m.\u001b[39mwv\u001b[39m.\u001b[39mvectors_ngrams, sub_size\u001b[39m=\u001b[39m\u001b[39m2\u001b[39m)\n\u001b[0;32m----> <a href='vscode-notebook-cell:/Users/donsangre/PycharmProjects/quantitizer/Test.ipynb#ch0000003?line=3'>4</a>\u001b[0m new_ft\u001b[39m.\u001b[39mwv\u001b[39m.\u001b[39mvectors \u001b[39m=\u001b[39m quantitize(new_ft\u001b[39m.\u001b[39;49mwv\u001b[39m.\u001b[39;49mvectors, sub_size\u001b[39m=\u001b[39;49m\u001b[39m2\u001b[39;49m)\n",
      "File \u001b[0;32m~/PycharmProjects/quantitizer/quantitizer.py:17\u001b[0m, in \u001b[0;36mquantitize\u001b[0;34m(vectors, sub_size, n_cluster, n_iter, minit, seed)\u001b[0m\n\u001b[1;32m     15\u001b[0m code_books, indexes \u001b[39m=\u001b[39m [], []\n\u001b[1;32m     16\u001b[0m \u001b[39mfor\u001b[39;00m part \u001b[39min\u001b[39;00m parts:\n\u001b[0;32m---> 17\u001b[0m     centroid, label \u001b[39m=\u001b[39m kmeans2(\n\u001b[1;32m     18\u001b[0m         part, n_cluster, n_iter, minit\u001b[39m=\u001b[39;49mminit, seed\u001b[39m=\u001b[39;49mseed)\n\u001b[1;32m     19\u001b[0m     code_books\u001b[39m.\u001b[39mappend(centroid)\n\u001b[1;32m     20\u001b[0m     indexes\u001b[39m.\u001b[39mappend(label)\n",
      "File \u001b[0;32m/opt/homebrew/Caskroom/miniconda/base/lib/python3.8/site-packages/scipy/cluster/vq.py:792\u001b[0m, in \u001b[0;36mkmeans2\u001b[0;34m(data, k, iter, thresh, minit, missing, check_finite, seed)\u001b[0m\n\u001b[1;32m    788\u001b[0m         code_book \u001b[39m=\u001b[39m init_meth(data, k, rng)\n\u001b[1;32m    790\u001b[0m \u001b[39mfor\u001b[39;00m i \u001b[39min\u001b[39;00m \u001b[39mrange\u001b[39m(\u001b[39miter\u001b[39m):\n\u001b[1;32m    791\u001b[0m     \u001b[39m# Compute the nearest neighbor for each obs using the current code book\u001b[39;00m\n\u001b[0;32m--> 792\u001b[0m     label \u001b[39m=\u001b[39m vq(data, code_book)[\u001b[39m0\u001b[39m]\n\u001b[1;32m    793\u001b[0m     \u001b[39m# Update the code book by computing centroids\u001b[39;00m\n\u001b[1;32m    794\u001b[0m     new_code_book, has_members \u001b[39m=\u001b[39m _vq\u001b[39m.\u001b[39mupdate_cluster_means(data, label, nc)\n",
      "File \u001b[0;32m/opt/homebrew/Caskroom/miniconda/base/lib/python3.8/site-packages/scipy/cluster/vq.py:208\u001b[0m, in \u001b[0;36mvq\u001b[0;34m(obs, code_book, check_finite)\u001b[0m\n\u001b[1;32m    205\u001b[0m c_code_book \u001b[39m=\u001b[39m code_book\u001b[39m.\u001b[39mastype(ct, copy\u001b[39m=\u001b[39m\u001b[39mFalse\u001b[39;00m)\n\u001b[1;32m    207\u001b[0m \u001b[39mif\u001b[39;00m np\u001b[39m.\u001b[39missubdtype(ct, np\u001b[39m.\u001b[39mfloat64) \u001b[39mor\u001b[39;00m np\u001b[39m.\u001b[39missubdtype(ct, np\u001b[39m.\u001b[39mfloat32):\n\u001b[0;32m--> 208\u001b[0m     \u001b[39mreturn\u001b[39;00m _vq\u001b[39m.\u001b[39;49mvq(c_obs, c_code_book)\n\u001b[1;32m    209\u001b[0m \u001b[39mreturn\u001b[39;00m py_vq(obs, code_book, check_finite\u001b[39m=\u001b[39m\u001b[39mFalse\u001b[39;00m)\n",
      "\u001b[0;31mKeyboardInterrupt\u001b[0m: "
     ]
    }
   ],
   "source": [
    "from quantitizer import quantitize\n",
    "\n",
    "new_ft.wv.vectors_ngrams = quantitize(new_ft.wv.vectors_ngrams, sub_size=2)\n",
    "new_ft.wv.vectors = quantitize(new_ft.wv.vectors, sub_size=2)"
   ]
  },
  {
   "cell_type": "code",
   "execution_count": 59,
   "metadata": {},
   "outputs": [],
   "source": [
    "compressed_vec = new_ft.wv.get_vector(\"sz\")"
   ]
  },
  {
   "cell_type": "code",
   "execution_count": 60,
   "metadata": {},
   "outputs": [
    {
     "data": {
      "text/plain": [
       "0"
      ]
     },
     "execution_count": 60,
     "metadata": {},
     "output_type": "execute_result"
    }
   ],
   "source": [
    "from scipy.spatial import distance\n",
    "\n",
    "distance.cosine(original_vec, compressed_vec)"
   ]
  },
  {
   "cell_type": "code",
   "execution_count": 69,
   "metadata": {},
   "outputs": [],
   "source": [
    "with open(\"out/compressed.bin\", 'wb') as file:\n",
    "    pickle.dump(new_ft, file)\n",
    "# save_facebook_model(new_ft, \"out/compressed.bin\")"
   ]
  },
  {
   "cell_type": "code",
   "execution_count": 74,
   "metadata": {},
   "outputs": [
    {
     "data": {
      "text/plain": [
       "2288"
      ]
     },
     "execution_count": 74,
     "metadata": {},
     "output_type": "execute_result"
    }
   ],
   "source": [
    "ft.wv.vectors.nbytes // 1024 // 1024"
   ]
  },
  {
   "cell_type": "code",
   "execution_count": 73,
   "metadata": {},
   "outputs": [
    {
     "data": {
      "text/plain": [
       "572"
      ]
     },
     "execution_count": 73,
     "metadata": {},
     "output_type": "execute_result"
    }
   ],
   "source": [
    "ft.wv.vectors_ngrams.nbytes // 1024 // 1024"
   ]
  },
  {
   "cell_type": "code",
   "execution_count": 72,
   "metadata": {},
   "outputs": [
    {
     "data": {
      "text/plain": [
       "4"
      ]
     },
     "execution_count": 72,
     "metadata": {},
     "output_type": "execute_result"
    }
   ],
   "source": [
    "new_ft.wv.vectors_ngrams.nbytes // 1024 // 1024"
   ]
  },
  {
   "cell_type": "code",
   "execution_count": null,
   "metadata": {},
   "outputs": [],
   "source": []
  }
 ],
 "metadata": {
  "kernelspec": {
   "display_name": "Python 3.8.13 ('base')",
   "language": "python",
   "name": "python3"
  },
  "language_info": {
   "codemirror_mode": {
    "name": "ipython",
    "version": 3
   },
   "file_extension": ".py",
   "mimetype": "text/x-python",
   "name": "python",
   "nbconvert_exporter": "python",
   "pygments_lexer": "ipython3",
   "version": "3.8.13"
  },
  "orig_nbformat": 4,
  "vscode": {
   "interpreter": {
    "hash": "e7cb1b9ae4d417fedf7f40a8eec98f7cfbd359e096bd857395a915f4609834ce"
   }
  }
 },
 "nbformat": 4,
 "nbformat_minor": 2
}
